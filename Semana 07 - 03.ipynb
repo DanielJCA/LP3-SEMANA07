{
 "cells": [
  {
   "cell_type": "markdown",
   "id": "3e14abb1",
   "metadata": {},
   "source": [
    "# Semana 07\n",
    "Daniel Carhuancho Almanza \n"
   ]
  },
  {
   "cell_type": "markdown",
   "id": "9d3a3fef",
   "metadata": {},
   "source": [
    "Temas:\n",
    "1. Numeros\n",
    "2. Variables\n",
    "3. Manejo de cadenas\n",
    "4. Ingreso de Datos por el Teclado\n",
    "5. Operaciones\n"
   ]
  },
  {
   "cell_type": "markdown",
   "id": "eb2795f0",
   "metadata": {},
   "source": [
    " 3. Manejo de Cadenas"
   ]
  },
  {
   "cell_type": "code",
   "execution_count": 4,
   "id": "2624ef1c",
   "metadata": {},
   "outputs": [
    {
     "data": {
      "text/plain": [
       "'Universidad Nacional Tecnologica de Lima Sur'"
      ]
     },
     "execution_count": 4,
     "metadata": {},
     "output_type": "execute_result"
    }
   ],
   "source": [
    "cadena = \"Universidad Nacional Tecnologica de Lima Sur\"\n",
    "cadena"
   ]
  },
  {
   "cell_type": "code",
   "execution_count": 5,
   "id": "b2fc2ddf",
   "metadata": {},
   "outputs": [],
   "source": [
    "#Universidad Nacional Tecnologica de Lima sur\n",
    "#0.123456...\n",
    "#                            -2-1"
   ]
  },
  {
   "cell_type": "code",
   "execution_count": 6,
   "id": "fb64d016",
   "metadata": {},
   "outputs": [
    {
     "data": {
      "text/plain": [
       "'r'"
      ]
     },
     "execution_count": 6,
     "metadata": {},
     "output_type": "execute_result"
    }
   ],
   "source": [
    "cadena[5]"
   ]
  },
  {
   "cell_type": "code",
   "execution_count": 7,
   "id": "33161bf9",
   "metadata": {},
   "outputs": [
    {
     "data": {
      "text/plain": [
       "'d'"
      ]
     },
     "execution_count": 7,
     "metadata": {},
     "output_type": "execute_result"
    }
   ],
   "source": [
    "cadena[10]"
   ]
  },
  {
   "cell_type": "code",
   "execution_count": 8,
   "id": "3c1f33e5",
   "metadata": {},
   "outputs": [
    {
     "data": {
      "text/plain": [
       "' '"
      ]
     },
     "execution_count": 8,
     "metadata": {},
     "output_type": "execute_result"
    }
   ],
   "source": [
    "#Tambien considera los espacios\n",
    "cadena[11]"
   ]
  },
  {
   "cell_type": "code",
   "execution_count": 9,
   "id": "fcba5f20",
   "metadata": {},
   "outputs": [
    {
     "data": {
      "text/plain": [
       "'a'"
      ]
     },
     "execution_count": 9,
     "metadata": {},
     "output_type": "execute_result"
    }
   ],
   "source": [
    "#¿Que se mostrara?\n",
    "cadena[-5]"
   ]
  },
  {
   "cell_type": "code",
   "execution_count": 10,
   "id": "4ede9592",
   "metadata": {},
   "outputs": [
    {
     "data": {
      "text/plain": [
       "'T'"
      ]
     },
     "execution_count": 10,
     "metadata": {},
     "output_type": "execute_result"
    }
   ],
   "source": [
    "cadena [21]"
   ]
  },
  {
   "cell_type": "code",
   "execution_count": 11,
   "id": "ecdb8a78",
   "metadata": {},
   "outputs": [
    {
     "data": {
      "text/plain": [
       "'T'"
      ]
     },
     "execution_count": 11,
     "metadata": {},
     "output_type": "execute_result"
    }
   ],
   "source": [
    "#Tambien puedo mostrar acediendo de manera inversa\n",
    "cadena[-23]\n"
   ]
  },
  {
   "cell_type": "code",
   "execution_count": 12,
   "id": "cb742146",
   "metadata": {},
   "outputs": [
    {
     "data": {
      "text/plain": [
       "'versidad Nacion'"
      ]
     },
     "execution_count": 12,
     "metadata": {},
     "output_type": "execute_result"
    }
   ],
   "source": [
    "#Para mostrar una subcadena (desde, hasta una nates)\n",
    "#En java era subtring()\n",
    "cadena[3:18]"
   ]
  },
  {
   "cell_type": "code",
   "execution_count": 13,
   "id": "56d9b7e2",
   "metadata": {},
   "outputs": [
    {
     "data": {
      "text/plain": [
       "44"
      ]
     },
     "execution_count": 13,
     "metadata": {},
     "output_type": "execute_result"
    }
   ],
   "source": [
    "#Para saber el tamaño de una cadena utilizamos len()\n",
    "#incluye espacios en blanco\n",
    "len(cadena)"
   ]
  },
  {
   "cell_type": "code",
   "execution_count": 14,
   "id": "1499550c",
   "metadata": {},
   "outputs": [
    {
     "data": {
      "text/plain": [
       "'UNIVERSIDAD NACIONAL TECNOLOGICA DE LIMA SUR'"
      ]
     },
     "execution_count": 14,
     "metadata": {},
     "output_type": "execute_result"
    }
   ],
   "source": [
    "#Para mostrar una cadena en mayuscula utilizamos upper()\n",
    "cadena.upper()"
   ]
  },
  {
   "cell_type": "code",
   "execution_count": 15,
   "id": "209e2471",
   "metadata": {},
   "outputs": [],
   "source": [
    "# Ojo ... Solo muestra, porque "
   ]
  },
  {
   "cell_type": "code",
   "execution_count": 16,
   "id": "5a658e11",
   "metadata": {},
   "outputs": [
    {
     "data": {
      "text/plain": [
       "'universidad nacional tecnologica de lima sur'"
      ]
     },
     "execution_count": 16,
     "metadata": {},
     "output_type": "execute_result"
    }
   ],
   "source": [
    "# Para mostrar una cadean en mimnuscual utilizamos lowe()\n",
    "cadena.lower()"
   ]
  },
  {
   "cell_type": "code",
   "execution_count": 17,
   "id": "6fc8d7b5",
   "metadata": {},
   "outputs": [
    {
     "data": {
      "text/plain": [
       "['Universidad', 'Nacional', 'Tecnologica', 'de', 'Lima', 'Sur']"
      ]
     },
     "execution_count": 17,
     "metadata": {},
     "output_type": "execute_result"
    }
   ],
   "source": [
    "#Generar una lista a partir de una cadena. split()\n",
    "cadena.split()"
   ]
  },
  {
   "cell_type": "code",
   "execution_count": 18,
   "id": "022511c5",
   "metadata": {},
   "outputs": [
    {
     "data": {
      "text/plain": [
       "['Universid', 'd N', 'cion', 'l Tecnologic', ' de Lim', ' Sur']"
      ]
     },
     "execution_count": 18,
     "metadata": {},
     "output_type": "execute_result"
    }
   ],
   "source": [
    "#Generar una lista  utilizando un criterio de separacion a partir de una cadena split()\n",
    "#En este caso vamos a generar una lista de toda la cadean\n",
    "#Utilizando como criterio de separacion la letra \"A\"\n",
    "cadena.split(\"a\")"
   ]
  },
  {
   "cell_type": "code",
   "execution_count": 19,
   "id": "0615e034",
   "metadata": {},
   "outputs": [
    {
     "name": "stdout",
     "output_type": "stream",
     "text": [
      "Buenas tardes Daniel Carhuancho\n"
     ]
    }
   ],
   "source": [
    "#Forma clasica, concretar con +\n",
    "nombre = \"Daniel Carhuancho\"\n",
    "print (\"Buenas tardes \"+ nombre)"
   ]
  },
  {
   "cell_type": "code",
   "execution_count": 1,
   "id": "a9f352e9",
   "metadata": {},
   "outputs": [
    {
     "name": "stdout",
     "output_type": "stream",
     "text": [
      "Hola Daniel Carhuancho ya se que tienes 20 años\n"
     ]
    }
   ],
   "source": [
    "#Utilizando el.format()\n",
    "nombre=\"Daniel Carhuancho\"\n",
    "edad = 20\n",
    "print (\"Hola {} ya se que tienes {} años\".format(nombre, edad))"
   ]
  },
  {
   "cell_type": "code",
   "execution_count": 25,
   "id": "263f4e26",
   "metadata": {},
   "outputs": [
    {
     "name": "stdout",
     "output_type": "stream",
     "text": [
      "10/3 es = 3.3333333333333335\n",
      "10/3 es = 3.333\n"
     ]
    }
   ],
   "source": [
    "# Dar formato a numeros con muchos decimales\n",
    "resultados = 10/3\n",
    "print(\"10/3 es = {}\".format(resultados))\n",
    "print(\"10/3 es = {r:1.3f}\".format(r=resultados))"
   ]
  },
  {
   "cell_type": "code",
   "execution_count": 2,
   "id": "9b8a8430",
   "metadata": {},
   "outputs": [
    {
     "name": "stdout",
     "output_type": "stream",
     "text": [
      "buenos dias Daniel carhuancho, ya se que tienes 20 años\n"
     ]
    }
   ],
   "source": [
    "#Dar formato con f\n",
    "# La funcion f, esta disponible desde la version 3.6\n",
    "nombre = \"Daniel carhuancho\"\n",
    "edad = 20\n",
    "print (f\"buenos dias {nombre}, ya se que tienes {edad} años\")"
   ]
  },
  {
   "cell_type": "code",
   "execution_count": 30,
   "id": "a33450f5",
   "metadata": {},
   "outputs": [
    {
     "name": "stdout",
     "output_type": "stream",
     "text": [
      "10/3 es = 3.3333333333333335 \n",
      "10/3 es = 3.333 \n"
     ]
    }
   ],
   "source": [
    "# Dar formato a números con muchos decimales con f\n",
    "resultado = 10/3\n",
    "print(f\"10/3 es = {resultado} \")\n",
    "print(f\"10/3 es = {resultado:1.3f} \")"
   ]
  },
  {
   "cell_type": "code",
   "execution_count": null,
   "id": "514c80b1",
   "metadata": {},
   "outputs": [],
   "source": []
  }
 ],
 "metadata": {
  "kernelspec": {
   "display_name": "Python 3 (ipykernel)",
   "language": "python",
   "name": "python3"
  },
  "language_info": {
   "codemirror_mode": {
    "name": "ipython",
    "version": 3
   },
   "file_extension": ".py",
   "mimetype": "text/x-python",
   "name": "python",
   "nbconvert_exporter": "python",
   "pygments_lexer": "ipython3",
   "version": "3.9.12"
  }
 },
 "nbformat": 4,
 "nbformat_minor": 5
}
