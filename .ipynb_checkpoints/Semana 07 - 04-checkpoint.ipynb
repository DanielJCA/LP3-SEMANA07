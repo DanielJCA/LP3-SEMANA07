{
 "cells": [
  {
   "cell_type": "markdown",
   "id": "38493382",
   "metadata": {},
   "source": [
    "# Semana 07\n",
    "Daniel Carhuancho Almanza \n"
   ]
  },
  {
   "cell_type": "markdown",
   "id": "44a49cf9",
   "metadata": {},
   "source": [
    "Temas \n",
    "1. Numeros\n",
    "2. Variables\n",
    "3. Manejo de cadenas\n",
    "4. Ingreso de Datos por el Teclado\n",
    "5. Operaciones"
   ]
  },
  {
   "cell_type": "markdown",
   "id": "fbeb57b8",
   "metadata": {},
   "source": [
    "4. Ingreso de Datos por Teclado"
   ]
  },
  {
   "cell_type": "code",
   "execution_count": 3,
   "id": "132f4a07",
   "metadata": {},
   "outputs": [
    {
     "name": "stdout",
     "output_type": "stream",
     "text": [
      "¿Cual es tu nombre\n",
      "Daniel\n",
      "Hola Daniel\n"
     ]
    }
   ],
   "source": [
    "#Funcion input {}\n",
    "print (\"¿Cual es tu nombre\")\n",
    "nombre = input ()\n",
    "print (\"Hola \" + nombre)"
   ]
  },
  {
   "cell_type": "code",
   "execution_count": 7,
   "id": "afe443ff",
   "metadata": {},
   "outputs": [
    {
     "name": "stdout",
     "output_type": "stream",
     "text": [
      "numero 1 : \n",
      "4\n",
      "numero 2 : \n",
      "5\n",
      "El resultado es 9\n"
     ]
    }
   ],
   "source": [
    "#Cuando ingresa un valor por teclado lo hace como cadena \n",
    "print (\"numero 1 : \")\n",
    "numero1 = input ()\n",
    "print (\"numero 2 : \")\n",
    "numero2 = input ()\n",
    "numero3 = int(numero1)+ int(numero2)\n",
    "print (f\"El resultado es {numero3}\")"
   ]
  },
  {
   "cell_type": "code",
   "execution_count": null,
   "id": "255ddfaf",
   "metadata": {},
   "outputs": [],
   "source": []
  }
 ],
 "metadata": {
  "kernelspec": {
   "display_name": "Python 3 (ipykernel)",
   "language": "python",
   "name": "python3"
  },
  "language_info": {
   "codemirror_mode": {
    "name": "ipython",
    "version": 3
   },
   "file_extension": ".py",
   "mimetype": "text/x-python",
   "name": "python",
   "nbconvert_exporter": "python",
   "pygments_lexer": "ipython3",
   "version": "3.9.12"
  }
 },
 "nbformat": 4,
 "nbformat_minor": 5
}
